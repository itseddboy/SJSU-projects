{
 "cells": [
  {
   "cell_type": "markdown",
   "metadata": {},
   "source": [
    "# Puzzle Game Analytics"
   ]
  },
  {
   "cell_type": "code",
   "execution_count": 1,
   "metadata": {
    "scrolled": true
   },
   "outputs": [],
   "source": [
    "#libraries\n",
    "library(readr)"
   ]
  },
  {
   "cell_type": "code",
   "execution_count": 2,
   "metadata": {},
   "outputs": [
    {
     "name": "stderr",
     "output_type": "stream",
     "text": [
      "Parsed with column specification:\n",
      "cols(\n",
      "  Date = \u001b[31mcol_character()\u001b[39m,\n",
      "  `User ID` = \u001b[31mcol_character()\u001b[39m,\n",
      "  `Correct Answers` = \u001b[32mcol_double()\u001b[39m,\n",
      "  `Incorrect Answers` = \u001b[32mcol_double()\u001b[39m,\n",
      "  `Invalid Answers` = \u001b[32mcol_double()\u001b[39m\n",
      ")\n",
      "\n",
      "Parsed with column specification:\n",
      "cols(\n",
      "  Date = \u001b[31mcol_character()\u001b[39m,\n",
      "  `User ID` = \u001b[31mcol_character()\u001b[39m,\n",
      "  `Correct Answers` = \u001b[32mcol_double()\u001b[39m,\n",
      "  `Incorrect Answers` = \u001b[32mcol_double()\u001b[39m,\n",
      "  `Invalid Answers` = \u001b[32mcol_double()\u001b[39m\n",
      ")\n",
      "\n",
      "Parsed with column specification:\n",
      "cols(\n",
      "  Date = \u001b[31mcol_character()\u001b[39m,\n",
      "  `User ID` = \u001b[31mcol_character()\u001b[39m,\n",
      "  `Correct Answers` = \u001b[32mcol_double()\u001b[39m,\n",
      "  `Incorrect Answers` = \u001b[32mcol_double()\u001b[39m,\n",
      "  `Invalid Answers` = \u001b[32mcol_double()\u001b[39m\n",
      ")\n",
      "\n",
      "Parsed with column specification:\n",
      "cols(\n",
      "  Date = \u001b[31mcol_character()\u001b[39m,\n",
      "  `User ID` = \u001b[31mcol_character()\u001b[39m,\n",
      "  `Correct Answers` = \u001b[32mcol_double()\u001b[39m,\n",
      "  `Incorrect Answers` = \u001b[32mcol_double()\u001b[39m,\n",
      "  `Invalid Answers` = \u001b[32mcol_double()\u001b[39m\n",
      ")\n",
      "\n",
      "Parsed with column specification:\n",
      "cols(\n",
      "  Date = \u001b[31mcol_character()\u001b[39m,\n",
      "  `User ID` = \u001b[31mcol_character()\u001b[39m,\n",
      "  `Correct Answers` = \u001b[32mcol_double()\u001b[39m,\n",
      "  `Incorrect Answers` = \u001b[32mcol_double()\u001b[39m,\n",
      "  `Invalid Answers` = \u001b[32mcol_double()\u001b[39m\n",
      ")\n",
      "\n"
     ]
    }
   ],
   "source": [
    "#read in files for each game category\n",
    "E_scores <- read_csv(\"puzzle_Escores.csv\")\n",
    "FE_scores <- read_csv(\"puzzle_FExscores.csv\")\n",
    "Social_scores <- read_csv(\"Social_Qscores.csv\")\n",
    "School_scores <- read_csv(\"puzzle_SSscores.csv\")\n",
    "P_scores <- read_csv(\"puzzle_patternsscores.csv\")"
   ]
  },
  {
   "cell_type": "code",
   "execution_count": 3,
   "metadata": {},
   "outputs": [
    {
     "data": {
      "text/html": [
       "<table>\n",
       "<caption>A data.frame: 25 × 5</caption>\n",
       "<thead>\n",
       "\t<tr><th scope=col>Date</th><th scope=col>User.ID</th><th scope=col>Correct.Answers</th><th scope=col>Incorrect.Answers</th><th scope=col>Invalid.Answers</th></tr>\n",
       "\t<tr><th scope=col>&lt;chr&gt;</th><th scope=col>&lt;chr&gt;</th><th scope=col>&lt;dbl&gt;</th><th scope=col>&lt;dbl&gt;</th><th scope=col>&lt;dbl&gt;</th></tr>\n",
       "</thead>\n",
       "<tbody>\n",
       "\t<tr><td>05/17/2021</td><td>4567</td><td>2</td><td>6</td><td>1</td></tr>\n",
       "\t<tr><td>05/17/2021</td><td>7770</td><td>3</td><td>5</td><td>0</td></tr>\n",
       "\t<tr><td>05/17/2021</td><td>7771</td><td>4</td><td>4</td><td>0</td></tr>\n",
       "\t<tr><td>05/17/2021</td><td>7772</td><td>3</td><td>5</td><td>0</td></tr>\n",
       "\t<tr><td>05/17/2021</td><td>7771</td><td>2</td><td>6</td><td>0</td></tr>\n",
       "\t<tr><td>05/17/2021</td><td>7771</td><td>1</td><td>7</td><td>0</td></tr>\n",
       "\t<tr><td>05/17/2021</td><td>7773</td><td>7</td><td>1</td><td>0</td></tr>\n",
       "\t<tr><td>05/17/2021</td><td>7774</td><td>5</td><td>3</td><td>0</td></tr>\n",
       "\t<tr><td>05/17/2021</td><td>7775</td><td>6</td><td>2</td><td>0</td></tr>\n",
       "\t<tr><td>05/17/2021</td><td>7779</td><td>1</td><td>7</td><td>0</td></tr>\n",
       "\t<tr><td>05/17/2021</td><td>1234</td><td>4</td><td>4</td><td>0</td></tr>\n",
       "\t<tr><td>05/17/2021</td><td>1234</td><td>5</td><td>3</td><td>0</td></tr>\n",
       "\t<tr><td>05/17/2021</td><td>2345</td><td>7</td><td>1</td><td>0</td></tr>\n",
       "\t<tr><td>05/17/2021</td><td>4567</td><td>8</td><td>0</td><td>0</td></tr>\n",
       "\t<tr><td>05/17/2021</td><td>5678</td><td>6</td><td>2</td><td>0</td></tr>\n",
       "\t<tr><td>05/17/2021</td><td>9988</td><td>2</td><td>6</td><td>0</td></tr>\n",
       "\t<tr><td>05/17/2021</td><td>9988</td><td>2</td><td>6</td><td>0</td></tr>\n",
       "\t<tr><td>05/17/2021</td><td>9988</td><td>4</td><td>4</td><td>1</td></tr>\n",
       "\t<tr><td>05/17/2021</td><td>0009</td><td>2</td><td>6</td><td>2</td></tr>\n",
       "\t<tr><td>05/17/2021</td><td>0009</td><td>2</td><td>6</td><td>0</td></tr>\n",
       "\t<tr><td>05/17/2021</td><td>9990</td><td>5</td><td>3</td><td>2</td></tr>\n",
       "\t<tr><td>05/17/2021</td><td>9911</td><td>0</td><td>8</td><td>1</td></tr>\n",
       "\t<tr><td>05/17/2021</td><td>0512</td><td>5</td><td>3</td><td>0</td></tr>\n",
       "\t<tr><td>05/19/2021</td><td>2123</td><td>0</td><td>8</td><td>4</td></tr>\n",
       "\t<tr><td>05/19/2021</td><td>2342</td><td>7</td><td>1</td><td>0</td></tr>\n",
       "</tbody>\n",
       "</table>\n"
      ],
      "text/latex": [
       "A data.frame: 25 × 5\n",
       "\\begin{tabular}{lllll}\n",
       " Date & User.ID & Correct.Answers & Incorrect.Answers & Invalid.Answers\\\\\n",
       " <chr> & <chr> & <dbl> & <dbl> & <dbl>\\\\\n",
       "\\hline\n",
       "\t 05/17/2021 & 4567 & 2 & 6 & 1\\\\\n",
       "\t 05/17/2021 & 7770 & 3 & 5 & 0\\\\\n",
       "\t 05/17/2021 & 7771 & 4 & 4 & 0\\\\\n",
       "\t 05/17/2021 & 7772 & 3 & 5 & 0\\\\\n",
       "\t 05/17/2021 & 7771 & 2 & 6 & 0\\\\\n",
       "\t 05/17/2021 & 7771 & 1 & 7 & 0\\\\\n",
       "\t 05/17/2021 & 7773 & 7 & 1 & 0\\\\\n",
       "\t 05/17/2021 & 7774 & 5 & 3 & 0\\\\\n",
       "\t 05/17/2021 & 7775 & 6 & 2 & 0\\\\\n",
       "\t 05/17/2021 & 7779 & 1 & 7 & 0\\\\\n",
       "\t 05/17/2021 & 1234 & 4 & 4 & 0\\\\\n",
       "\t 05/17/2021 & 1234 & 5 & 3 & 0\\\\\n",
       "\t 05/17/2021 & 2345 & 7 & 1 & 0\\\\\n",
       "\t 05/17/2021 & 4567 & 8 & 0 & 0\\\\\n",
       "\t 05/17/2021 & 5678 & 6 & 2 & 0\\\\\n",
       "\t 05/17/2021 & 9988 & 2 & 6 & 0\\\\\n",
       "\t 05/17/2021 & 9988 & 2 & 6 & 0\\\\\n",
       "\t 05/17/2021 & 9988 & 4 & 4 & 1\\\\\n",
       "\t 05/17/2021 & 0009 & 2 & 6 & 2\\\\\n",
       "\t 05/17/2021 & 0009 & 2 & 6 & 0\\\\\n",
       "\t 05/17/2021 & 9990 & 5 & 3 & 2\\\\\n",
       "\t 05/17/2021 & 9911 & 0 & 8 & 1\\\\\n",
       "\t 05/17/2021 & 0512 & 5 & 3 & 0\\\\\n",
       "\t 05/19/2021 & 2123 & 0 & 8 & 4\\\\\n",
       "\t 05/19/2021 & 2342 & 7 & 1 & 0\\\\\n",
       "\\end{tabular}\n"
      ],
      "text/markdown": [
       "\n",
       "A data.frame: 25 × 5\n",
       "\n",
       "| Date &lt;chr&gt; | User.ID &lt;chr&gt; | Correct.Answers &lt;dbl&gt; | Incorrect.Answers &lt;dbl&gt; | Invalid.Answers &lt;dbl&gt; |\n",
       "|---|---|---|---|---|\n",
       "| 05/17/2021 | 4567 | 2 | 6 | 1 |\n",
       "| 05/17/2021 | 7770 | 3 | 5 | 0 |\n",
       "| 05/17/2021 | 7771 | 4 | 4 | 0 |\n",
       "| 05/17/2021 | 7772 | 3 | 5 | 0 |\n",
       "| 05/17/2021 | 7771 | 2 | 6 | 0 |\n",
       "| 05/17/2021 | 7771 | 1 | 7 | 0 |\n",
       "| 05/17/2021 | 7773 | 7 | 1 | 0 |\n",
       "| 05/17/2021 | 7774 | 5 | 3 | 0 |\n",
       "| 05/17/2021 | 7775 | 6 | 2 | 0 |\n",
       "| 05/17/2021 | 7779 | 1 | 7 | 0 |\n",
       "| 05/17/2021 | 1234 | 4 | 4 | 0 |\n",
       "| 05/17/2021 | 1234 | 5 | 3 | 0 |\n",
       "| 05/17/2021 | 2345 | 7 | 1 | 0 |\n",
       "| 05/17/2021 | 4567 | 8 | 0 | 0 |\n",
       "| 05/17/2021 | 5678 | 6 | 2 | 0 |\n",
       "| 05/17/2021 | 9988 | 2 | 6 | 0 |\n",
       "| 05/17/2021 | 9988 | 2 | 6 | 0 |\n",
       "| 05/17/2021 | 9988 | 4 | 4 | 1 |\n",
       "| 05/17/2021 | 0009 | 2 | 6 | 2 |\n",
       "| 05/17/2021 | 0009 | 2 | 6 | 0 |\n",
       "| 05/17/2021 | 9990 | 5 | 3 | 2 |\n",
       "| 05/17/2021 | 9911 | 0 | 8 | 1 |\n",
       "| 05/17/2021 | 0512 | 5 | 3 | 0 |\n",
       "| 05/19/2021 | 2123 | 0 | 8 | 4 |\n",
       "| 05/19/2021 | 2342 | 7 | 1 | 0 |\n",
       "\n"
      ],
      "text/plain": [
       "   Date       User.ID Correct.Answers Incorrect.Answers Invalid.Answers\n",
       "1  05/17/2021 4567    2               6                 1              \n",
       "2  05/17/2021 7770    3               5                 0              \n",
       "3  05/17/2021 7771    4               4                 0              \n",
       "4  05/17/2021 7772    3               5                 0              \n",
       "5  05/17/2021 7771    2               6                 0              \n",
       "6  05/17/2021 7771    1               7                 0              \n",
       "7  05/17/2021 7773    7               1                 0              \n",
       "8  05/17/2021 7774    5               3                 0              \n",
       "9  05/17/2021 7775    6               2                 0              \n",
       "10 05/17/2021 7779    1               7                 0              \n",
       "11 05/17/2021 1234    4               4                 0              \n",
       "12 05/17/2021 1234    5               3                 0              \n",
       "13 05/17/2021 2345    7               1                 0              \n",
       "14 05/17/2021 4567    8               0                 0              \n",
       "15 05/17/2021 5678    6               2                 0              \n",
       "16 05/17/2021 9988    2               6                 0              \n",
       "17 05/17/2021 9988    2               6                 0              \n",
       "18 05/17/2021 9988    4               4                 1              \n",
       "19 05/17/2021 0009    2               6                 2              \n",
       "20 05/17/2021 0009    2               6                 0              \n",
       "21 05/17/2021 9990    5               3                 2              \n",
       "22 05/17/2021 9911    0               8                 1              \n",
       "23 05/17/2021 0512    5               3                 0              \n",
       "24 05/19/2021 2123    0               8                 4              \n",
       "25 05/19/2021 2342    7               1                 0              "
      ]
     },
     "metadata": {},
     "output_type": "display_data"
    },
    {
     "data": {
      "text/html": [
       "<table>\n",
       "<caption>A data.frame: 18 × 5</caption>\n",
       "<thead>\n",
       "\t<tr><th scope=col>Date</th><th scope=col>User.ID</th><th scope=col>Correct.Answers</th><th scope=col>Incorrect.Answers</th><th scope=col>Invalid.Answers</th></tr>\n",
       "\t<tr><th scope=col>&lt;chr&gt;</th><th scope=col>&lt;chr&gt;</th><th scope=col>&lt;dbl&gt;</th><th scope=col>&lt;dbl&gt;</th><th scope=col>&lt;dbl&gt;</th></tr>\n",
       "</thead>\n",
       "<tbody>\n",
       "\t<tr><td>05/17/2021</td><td>4567</td><td>8</td><td>0</td><td>0</td></tr>\n",
       "\t<tr><td>05/17/2021</td><td>7770</td><td>6</td><td>2</td><td>0</td></tr>\n",
       "\t<tr><td>05/17/2021</td><td>7771</td><td>5</td><td>3</td><td>0</td></tr>\n",
       "\t<tr><td>05/17/2021</td><td>7772</td><td>4</td><td>4</td><td>0</td></tr>\n",
       "\t<tr><td>05/17/2021</td><td>7773</td><td>2</td><td>6</td><td>0</td></tr>\n",
       "\t<tr><td>05/17/2021</td><td>7774</td><td>3</td><td>5</td><td>0</td></tr>\n",
       "\t<tr><td>05/17/2021</td><td>7775</td><td>7</td><td>1</td><td>0</td></tr>\n",
       "\t<tr><td>05/17/2021</td><td>7779</td><td>1</td><td>7</td><td>0</td></tr>\n",
       "\t<tr><td>05/17/2021</td><td>1234</td><td>8</td><td>0</td><td>0</td></tr>\n",
       "\t<tr><td>05/17/2021</td><td>1234</td><td>3</td><td>5</td><td>0</td></tr>\n",
       "\t<tr><td>05/17/2021</td><td>2345</td><td>0</td><td>8</td><td>0</td></tr>\n",
       "\t<tr><td>05/17/2021</td><td>4567</td><td>7</td><td>1</td><td>0</td></tr>\n",
       "\t<tr><td>05/17/2021</td><td>5678</td><td>5</td><td>3</td><td>0</td></tr>\n",
       "\t<tr><td>05/17/2021</td><td>9988</td><td>3</td><td>5</td><td>0</td></tr>\n",
       "\t<tr><td>05/17/2021</td><td>0009</td><td>3</td><td>5</td><td>0</td></tr>\n",
       "\t<tr><td>05/17/2021</td><td>9911</td><td>2</td><td>6</td><td>0</td></tr>\n",
       "\t<tr><td>05/17/2021</td><td>0512</td><td>8</td><td>0</td><td>0</td></tr>\n",
       "\t<tr><td>05/19/2021</td><td>2332</td><td>4</td><td>4</td><td>2</td></tr>\n",
       "</tbody>\n",
       "</table>\n"
      ],
      "text/latex": [
       "A data.frame: 18 × 5\n",
       "\\begin{tabular}{lllll}\n",
       " Date & User.ID & Correct.Answers & Incorrect.Answers & Invalid.Answers\\\\\n",
       " <chr> & <chr> & <dbl> & <dbl> & <dbl>\\\\\n",
       "\\hline\n",
       "\t 05/17/2021 & 4567 & 8 & 0 & 0\\\\\n",
       "\t 05/17/2021 & 7770 & 6 & 2 & 0\\\\\n",
       "\t 05/17/2021 & 7771 & 5 & 3 & 0\\\\\n",
       "\t 05/17/2021 & 7772 & 4 & 4 & 0\\\\\n",
       "\t 05/17/2021 & 7773 & 2 & 6 & 0\\\\\n",
       "\t 05/17/2021 & 7774 & 3 & 5 & 0\\\\\n",
       "\t 05/17/2021 & 7775 & 7 & 1 & 0\\\\\n",
       "\t 05/17/2021 & 7779 & 1 & 7 & 0\\\\\n",
       "\t 05/17/2021 & 1234 & 8 & 0 & 0\\\\\n",
       "\t 05/17/2021 & 1234 & 3 & 5 & 0\\\\\n",
       "\t 05/17/2021 & 2345 & 0 & 8 & 0\\\\\n",
       "\t 05/17/2021 & 4567 & 7 & 1 & 0\\\\\n",
       "\t 05/17/2021 & 5678 & 5 & 3 & 0\\\\\n",
       "\t 05/17/2021 & 9988 & 3 & 5 & 0\\\\\n",
       "\t 05/17/2021 & 0009 & 3 & 5 & 0\\\\\n",
       "\t 05/17/2021 & 9911 & 2 & 6 & 0\\\\\n",
       "\t 05/17/2021 & 0512 & 8 & 0 & 0\\\\\n",
       "\t 05/19/2021 & 2332 & 4 & 4 & 2\\\\\n",
       "\\end{tabular}\n"
      ],
      "text/markdown": [
       "\n",
       "A data.frame: 18 × 5\n",
       "\n",
       "| Date &lt;chr&gt; | User.ID &lt;chr&gt; | Correct.Answers &lt;dbl&gt; | Incorrect.Answers &lt;dbl&gt; | Invalid.Answers &lt;dbl&gt; |\n",
       "|---|---|---|---|---|\n",
       "| 05/17/2021 | 4567 | 8 | 0 | 0 |\n",
       "| 05/17/2021 | 7770 | 6 | 2 | 0 |\n",
       "| 05/17/2021 | 7771 | 5 | 3 | 0 |\n",
       "| 05/17/2021 | 7772 | 4 | 4 | 0 |\n",
       "| 05/17/2021 | 7773 | 2 | 6 | 0 |\n",
       "| 05/17/2021 | 7774 | 3 | 5 | 0 |\n",
       "| 05/17/2021 | 7775 | 7 | 1 | 0 |\n",
       "| 05/17/2021 | 7779 | 1 | 7 | 0 |\n",
       "| 05/17/2021 | 1234 | 8 | 0 | 0 |\n",
       "| 05/17/2021 | 1234 | 3 | 5 | 0 |\n",
       "| 05/17/2021 | 2345 | 0 | 8 | 0 |\n",
       "| 05/17/2021 | 4567 | 7 | 1 | 0 |\n",
       "| 05/17/2021 | 5678 | 5 | 3 | 0 |\n",
       "| 05/17/2021 | 9988 | 3 | 5 | 0 |\n",
       "| 05/17/2021 | 0009 | 3 | 5 | 0 |\n",
       "| 05/17/2021 | 9911 | 2 | 6 | 0 |\n",
       "| 05/17/2021 | 0512 | 8 | 0 | 0 |\n",
       "| 05/19/2021 | 2332 | 4 | 4 | 2 |\n",
       "\n"
      ],
      "text/plain": [
       "   Date       User.ID Correct.Answers Incorrect.Answers Invalid.Answers\n",
       "1  05/17/2021 4567    8               0                 0              \n",
       "2  05/17/2021 7770    6               2                 0              \n",
       "3  05/17/2021 7771    5               3                 0              \n",
       "4  05/17/2021 7772    4               4                 0              \n",
       "5  05/17/2021 7773    2               6                 0              \n",
       "6  05/17/2021 7774    3               5                 0              \n",
       "7  05/17/2021 7775    7               1                 0              \n",
       "8  05/17/2021 7779    1               7                 0              \n",
       "9  05/17/2021 1234    8               0                 0              \n",
       "10 05/17/2021 1234    3               5                 0              \n",
       "11 05/17/2021 2345    0               8                 0              \n",
       "12 05/17/2021 4567    7               1                 0              \n",
       "13 05/17/2021 5678    5               3                 0              \n",
       "14 05/17/2021 9988    3               5                 0              \n",
       "15 05/17/2021 0009    3               5                 0              \n",
       "16 05/17/2021 9911    2               6                 0              \n",
       "17 05/17/2021 0512    8               0                 0              \n",
       "18 05/19/2021 2332    4               4                 2              "
      ]
     },
     "metadata": {},
     "output_type": "display_data"
    },
    {
     "data": {
      "text/html": [
       "<table>\n",
       "<caption>A data.frame: 19 × 5</caption>\n",
       "<thead>\n",
       "\t<tr><th scope=col>Date</th><th scope=col>User.ID</th><th scope=col>Correct.Answers</th><th scope=col>Incorrect.Answers</th><th scope=col>Invalid.Answers</th></tr>\n",
       "\t<tr><th scope=col>&lt;chr&gt;</th><th scope=col>&lt;chr&gt;</th><th scope=col>&lt;dbl&gt;</th><th scope=col>&lt;dbl&gt;</th><th scope=col>&lt;dbl&gt;</th></tr>\n",
       "</thead>\n",
       "<tbody>\n",
       "\t<tr><td>05/17/2021</td><td>4567</td><td>2</td><td>3</td><td>1</td></tr>\n",
       "\t<tr><td>05/17/2021</td><td>7770</td><td>5</td><td>0</td><td>0</td></tr>\n",
       "\t<tr><td>05/17/2021</td><td>7771</td><td>4</td><td>1</td><td>0</td></tr>\n",
       "\t<tr><td>05/17/2021</td><td>7772</td><td>2</td><td>3</td><td>0</td></tr>\n",
       "\t<tr><td>05/17/2021</td><td>7773</td><td>5</td><td>0</td><td>0</td></tr>\n",
       "\t<tr><td>05/17/2021</td><td>7774</td><td>3</td><td>2</td><td>0</td></tr>\n",
       "\t<tr><td>05/17/2021</td><td>7775</td><td>2</td><td>3</td><td>0</td></tr>\n",
       "\t<tr><td>05/17/2021</td><td>7779</td><td>2</td><td>3</td><td>0</td></tr>\n",
       "\t<tr><td>05/17/2021</td><td>1234</td><td>5</td><td>0</td><td>0</td></tr>\n",
       "\t<tr><td>05/17/2021</td><td>1234</td><td>5</td><td>0</td><td>0</td></tr>\n",
       "\t<tr><td>05/17/2021</td><td>2345</td><td>3</td><td>2</td><td>0</td></tr>\n",
       "\t<tr><td>05/17/2021</td><td>4567</td><td>5</td><td>0</td><td>0</td></tr>\n",
       "\t<tr><td>05/17/2021</td><td>4567</td><td>4</td><td>1</td><td>0</td></tr>\n",
       "\t<tr><td>05/17/2021</td><td>9988</td><td>3</td><td>2</td><td>0</td></tr>\n",
       "\t<tr><td>05/17/2021</td><td>0009</td><td>3</td><td>2</td><td>0</td></tr>\n",
       "\t<tr><td>05/17/2021</td><td>9990</td><td>0</td><td>5</td><td>0</td></tr>\n",
       "\t<tr><td>05/17/2021</td><td>9990</td><td>3</td><td>2</td><td>0</td></tr>\n",
       "\t<tr><td>05/17/2021</td><td>9911</td><td>0</td><td>5</td><td>0</td></tr>\n",
       "\t<tr><td>05/17/2021</td><td>0512</td><td>5</td><td>0</td><td>0</td></tr>\n",
       "</tbody>\n",
       "</table>\n"
      ],
      "text/latex": [
       "A data.frame: 19 × 5\n",
       "\\begin{tabular}{lllll}\n",
       " Date & User.ID & Correct.Answers & Incorrect.Answers & Invalid.Answers\\\\\n",
       " <chr> & <chr> & <dbl> & <dbl> & <dbl>\\\\\n",
       "\\hline\n",
       "\t 05/17/2021 & 4567 & 2 & 3 & 1\\\\\n",
       "\t 05/17/2021 & 7770 & 5 & 0 & 0\\\\\n",
       "\t 05/17/2021 & 7771 & 4 & 1 & 0\\\\\n",
       "\t 05/17/2021 & 7772 & 2 & 3 & 0\\\\\n",
       "\t 05/17/2021 & 7773 & 5 & 0 & 0\\\\\n",
       "\t 05/17/2021 & 7774 & 3 & 2 & 0\\\\\n",
       "\t 05/17/2021 & 7775 & 2 & 3 & 0\\\\\n",
       "\t 05/17/2021 & 7779 & 2 & 3 & 0\\\\\n",
       "\t 05/17/2021 & 1234 & 5 & 0 & 0\\\\\n",
       "\t 05/17/2021 & 1234 & 5 & 0 & 0\\\\\n",
       "\t 05/17/2021 & 2345 & 3 & 2 & 0\\\\\n",
       "\t 05/17/2021 & 4567 & 5 & 0 & 0\\\\\n",
       "\t 05/17/2021 & 4567 & 4 & 1 & 0\\\\\n",
       "\t 05/17/2021 & 9988 & 3 & 2 & 0\\\\\n",
       "\t 05/17/2021 & 0009 & 3 & 2 & 0\\\\\n",
       "\t 05/17/2021 & 9990 & 0 & 5 & 0\\\\\n",
       "\t 05/17/2021 & 9990 & 3 & 2 & 0\\\\\n",
       "\t 05/17/2021 & 9911 & 0 & 5 & 0\\\\\n",
       "\t 05/17/2021 & 0512 & 5 & 0 & 0\\\\\n",
       "\\end{tabular}\n"
      ],
      "text/markdown": [
       "\n",
       "A data.frame: 19 × 5\n",
       "\n",
       "| Date &lt;chr&gt; | User.ID &lt;chr&gt; | Correct.Answers &lt;dbl&gt; | Incorrect.Answers &lt;dbl&gt; | Invalid.Answers &lt;dbl&gt; |\n",
       "|---|---|---|---|---|\n",
       "| 05/17/2021 | 4567 | 2 | 3 | 1 |\n",
       "| 05/17/2021 | 7770 | 5 | 0 | 0 |\n",
       "| 05/17/2021 | 7771 | 4 | 1 | 0 |\n",
       "| 05/17/2021 | 7772 | 2 | 3 | 0 |\n",
       "| 05/17/2021 | 7773 | 5 | 0 | 0 |\n",
       "| 05/17/2021 | 7774 | 3 | 2 | 0 |\n",
       "| 05/17/2021 | 7775 | 2 | 3 | 0 |\n",
       "| 05/17/2021 | 7779 | 2 | 3 | 0 |\n",
       "| 05/17/2021 | 1234 | 5 | 0 | 0 |\n",
       "| 05/17/2021 | 1234 | 5 | 0 | 0 |\n",
       "| 05/17/2021 | 2345 | 3 | 2 | 0 |\n",
       "| 05/17/2021 | 4567 | 5 | 0 | 0 |\n",
       "| 05/17/2021 | 4567 | 4 | 1 | 0 |\n",
       "| 05/17/2021 | 9988 | 3 | 2 | 0 |\n",
       "| 05/17/2021 | 0009 | 3 | 2 | 0 |\n",
       "| 05/17/2021 | 9990 | 0 | 5 | 0 |\n",
       "| 05/17/2021 | 9990 | 3 | 2 | 0 |\n",
       "| 05/17/2021 | 9911 | 0 | 5 | 0 |\n",
       "| 05/17/2021 | 0512 | 5 | 0 | 0 |\n",
       "\n"
      ],
      "text/plain": [
       "   Date       User.ID Correct.Answers Incorrect.Answers Invalid.Answers\n",
       "1  05/17/2021 4567    2               3                 1              \n",
       "2  05/17/2021 7770    5               0                 0              \n",
       "3  05/17/2021 7771    4               1                 0              \n",
       "4  05/17/2021 7772    2               3                 0              \n",
       "5  05/17/2021 7773    5               0                 0              \n",
       "6  05/17/2021 7774    3               2                 0              \n",
       "7  05/17/2021 7775    2               3                 0              \n",
       "8  05/17/2021 7779    2               3                 0              \n",
       "9  05/17/2021 1234    5               0                 0              \n",
       "10 05/17/2021 1234    5               0                 0              \n",
       "11 05/17/2021 2345    3               2                 0              \n",
       "12 05/17/2021 4567    5               0                 0              \n",
       "13 05/17/2021 4567    4               1                 0              \n",
       "14 05/17/2021 9988    3               2                 0              \n",
       "15 05/17/2021 0009    3               2                 0              \n",
       "16 05/17/2021 9990    0               5                 0              \n",
       "17 05/17/2021 9990    3               2                 0              \n",
       "18 05/17/2021 9911    0               5                 0              \n",
       "19 05/17/2021 0512    5               0                 0              "
      ]
     },
     "metadata": {},
     "output_type": "display_data"
    },
    {
     "data": {
      "text/html": [
       "<table>\n",
       "<caption>A data.frame: 18 × 5</caption>\n",
       "<thead>\n",
       "\t<tr><th scope=col>Date</th><th scope=col>User.ID</th><th scope=col>Correct.Answers</th><th scope=col>Incorrect.Answers</th><th scope=col>Invalid.Answers</th></tr>\n",
       "\t<tr><th scope=col>&lt;chr&gt;</th><th scope=col>&lt;chr&gt;</th><th scope=col>&lt;dbl&gt;</th><th scope=col>&lt;dbl&gt;</th><th scope=col>&lt;dbl&gt;</th></tr>\n",
       "</thead>\n",
       "<tbody>\n",
       "\t<tr><td>05/17/2021</td><td>4567</td><td>6</td><td>3</td><td>0</td></tr>\n",
       "\t<tr><td>05/17/2021</td><td>7770</td><td>9</td><td>0</td><td>0</td></tr>\n",
       "\t<tr><td>05/17/2021</td><td>7771</td><td>8</td><td>1</td><td>0</td></tr>\n",
       "\t<tr><td>05/17/2021</td><td>7772</td><td>4</td><td>5</td><td>0</td></tr>\n",
       "\t<tr><td>05/17/2021</td><td>7773</td><td>2</td><td>7</td><td>0</td></tr>\n",
       "\t<tr><td>05/17/2021</td><td>7772</td><td>3</td><td>6</td><td>0</td></tr>\n",
       "\t<tr><td>05/17/2021</td><td>7774</td><td>1</td><td>8</td><td>0</td></tr>\n",
       "\t<tr><td>05/17/2021</td><td>7775</td><td>8</td><td>1</td><td>0</td></tr>\n",
       "\t<tr><td>05/17/2021</td><td>7779</td><td>3</td><td>6</td><td>0</td></tr>\n",
       "\t<tr><td>05/17/2021</td><td>1234</td><td>4</td><td>5</td><td>0</td></tr>\n",
       "\t<tr><td>05/17/2021</td><td>2345</td><td>7</td><td>2</td><td>0</td></tr>\n",
       "\t<tr><td>05/17/2021</td><td>4567</td><td>4</td><td>5</td><td>0</td></tr>\n",
       "\t<tr><td>05/17/2021</td><td>5678</td><td>6</td><td>3</td><td>0</td></tr>\n",
       "\t<tr><td>05/17/2021</td><td>9988</td><td>2</td><td>7</td><td>1</td></tr>\n",
       "\t<tr><td>05/17/2021</td><td>0009</td><td>3</td><td>6</td><td>0</td></tr>\n",
       "\t<tr><td>05/17/2021</td><td>9990</td><td>1</td><td>8</td><td>0</td></tr>\n",
       "\t<tr><td>05/17/2021</td><td>9911</td><td>2</td><td>7</td><td>0</td></tr>\n",
       "\t<tr><td>05/17/2021</td><td>0512</td><td>9</td><td>0</td><td>0</td></tr>\n",
       "</tbody>\n",
       "</table>\n"
      ],
      "text/latex": [
       "A data.frame: 18 × 5\n",
       "\\begin{tabular}{lllll}\n",
       " Date & User.ID & Correct.Answers & Incorrect.Answers & Invalid.Answers\\\\\n",
       " <chr> & <chr> & <dbl> & <dbl> & <dbl>\\\\\n",
       "\\hline\n",
       "\t 05/17/2021 & 4567 & 6 & 3 & 0\\\\\n",
       "\t 05/17/2021 & 7770 & 9 & 0 & 0\\\\\n",
       "\t 05/17/2021 & 7771 & 8 & 1 & 0\\\\\n",
       "\t 05/17/2021 & 7772 & 4 & 5 & 0\\\\\n",
       "\t 05/17/2021 & 7773 & 2 & 7 & 0\\\\\n",
       "\t 05/17/2021 & 7772 & 3 & 6 & 0\\\\\n",
       "\t 05/17/2021 & 7774 & 1 & 8 & 0\\\\\n",
       "\t 05/17/2021 & 7775 & 8 & 1 & 0\\\\\n",
       "\t 05/17/2021 & 7779 & 3 & 6 & 0\\\\\n",
       "\t 05/17/2021 & 1234 & 4 & 5 & 0\\\\\n",
       "\t 05/17/2021 & 2345 & 7 & 2 & 0\\\\\n",
       "\t 05/17/2021 & 4567 & 4 & 5 & 0\\\\\n",
       "\t 05/17/2021 & 5678 & 6 & 3 & 0\\\\\n",
       "\t 05/17/2021 & 9988 & 2 & 7 & 1\\\\\n",
       "\t 05/17/2021 & 0009 & 3 & 6 & 0\\\\\n",
       "\t 05/17/2021 & 9990 & 1 & 8 & 0\\\\\n",
       "\t 05/17/2021 & 9911 & 2 & 7 & 0\\\\\n",
       "\t 05/17/2021 & 0512 & 9 & 0 & 0\\\\\n",
       "\\end{tabular}\n"
      ],
      "text/markdown": [
       "\n",
       "A data.frame: 18 × 5\n",
       "\n",
       "| Date &lt;chr&gt; | User.ID &lt;chr&gt; | Correct.Answers &lt;dbl&gt; | Incorrect.Answers &lt;dbl&gt; | Invalid.Answers &lt;dbl&gt; |\n",
       "|---|---|---|---|---|\n",
       "| 05/17/2021 | 4567 | 6 | 3 | 0 |\n",
       "| 05/17/2021 | 7770 | 9 | 0 | 0 |\n",
       "| 05/17/2021 | 7771 | 8 | 1 | 0 |\n",
       "| 05/17/2021 | 7772 | 4 | 5 | 0 |\n",
       "| 05/17/2021 | 7773 | 2 | 7 | 0 |\n",
       "| 05/17/2021 | 7772 | 3 | 6 | 0 |\n",
       "| 05/17/2021 | 7774 | 1 | 8 | 0 |\n",
       "| 05/17/2021 | 7775 | 8 | 1 | 0 |\n",
       "| 05/17/2021 | 7779 | 3 | 6 | 0 |\n",
       "| 05/17/2021 | 1234 | 4 | 5 | 0 |\n",
       "| 05/17/2021 | 2345 | 7 | 2 | 0 |\n",
       "| 05/17/2021 | 4567 | 4 | 5 | 0 |\n",
       "| 05/17/2021 | 5678 | 6 | 3 | 0 |\n",
       "| 05/17/2021 | 9988 | 2 | 7 | 1 |\n",
       "| 05/17/2021 | 0009 | 3 | 6 | 0 |\n",
       "| 05/17/2021 | 9990 | 1 | 8 | 0 |\n",
       "| 05/17/2021 | 9911 | 2 | 7 | 0 |\n",
       "| 05/17/2021 | 0512 | 9 | 0 | 0 |\n",
       "\n"
      ],
      "text/plain": [
       "   Date       User.ID Correct.Answers Incorrect.Answers Invalid.Answers\n",
       "1  05/17/2021 4567    6               3                 0              \n",
       "2  05/17/2021 7770    9               0                 0              \n",
       "3  05/17/2021 7771    8               1                 0              \n",
       "4  05/17/2021 7772    4               5                 0              \n",
       "5  05/17/2021 7773    2               7                 0              \n",
       "6  05/17/2021 7772    3               6                 0              \n",
       "7  05/17/2021 7774    1               8                 0              \n",
       "8  05/17/2021 7775    8               1                 0              \n",
       "9  05/17/2021 7779    3               6                 0              \n",
       "10 05/17/2021 1234    4               5                 0              \n",
       "11 05/17/2021 2345    7               2                 0              \n",
       "12 05/17/2021 4567    4               5                 0              \n",
       "13 05/17/2021 5678    6               3                 0              \n",
       "14 05/17/2021 9988    2               7                 1              \n",
       "15 05/17/2021 0009    3               6                 0              \n",
       "16 05/17/2021 9990    1               8                 0              \n",
       "17 05/17/2021 9911    2               7                 0              \n",
       "18 05/17/2021 0512    9               0                 0              "
      ]
     },
     "metadata": {},
     "output_type": "display_data"
    },
    {
     "data": {
      "text/html": [
       "<table>\n",
       "<caption>A data.frame: 19 × 5</caption>\n",
       "<thead>\n",
       "\t<tr><th scope=col>Date</th><th scope=col>User.ID</th><th scope=col>Correct.Answers</th><th scope=col>Incorrect.Answers</th><th scope=col>Invalid.Answers</th></tr>\n",
       "\t<tr><th scope=col>&lt;chr&gt;</th><th scope=col>&lt;chr&gt;</th><th scope=col>&lt;dbl&gt;</th><th scope=col>&lt;dbl&gt;</th><th scope=col>&lt;dbl&gt;</th></tr>\n",
       "</thead>\n",
       "<tbody>\n",
       "\t<tr><td>05/17/2021</td><td>4567</td><td>1</td><td>3</td><td>0</td></tr>\n",
       "\t<tr><td>05/17/2021</td><td>7770</td><td>2</td><td>2</td><td>0</td></tr>\n",
       "\t<tr><td>05/17/2021</td><td>7771</td><td>3</td><td>1</td><td>0</td></tr>\n",
       "\t<tr><td>05/17/2021</td><td>7772</td><td>0</td><td>4</td><td>0</td></tr>\n",
       "\t<tr><td>05/17/2021</td><td>7773</td><td>3</td><td>1</td><td>0</td></tr>\n",
       "\t<tr><td>05/17/2021</td><td>7774</td><td>0</td><td>4</td><td>0</td></tr>\n",
       "\t<tr><td>05/17/2021</td><td>7775</td><td>3</td><td>1</td><td>0</td></tr>\n",
       "\t<tr><td>05/17/2021</td><td>7779</td><td>0</td><td>4</td><td>0</td></tr>\n",
       "\t<tr><td>05/17/2021</td><td>1234</td><td>2</td><td>2</td><td>0</td></tr>\n",
       "\t<tr><td>05/17/2021</td><td>1234</td><td>4</td><td>0</td><td>0</td></tr>\n",
       "\t<tr><td>05/17/2021</td><td>2345</td><td>4</td><td>0</td><td>0</td></tr>\n",
       "\t<tr><td>05/17/2021</td><td>4567</td><td>4</td><td>0</td><td>0</td></tr>\n",
       "\t<tr><td>05/17/2021</td><td>5678</td><td>0</td><td>4</td><td>0</td></tr>\n",
       "\t<tr><td>05/17/2021</td><td>9988</td><td>2</td><td>2</td><td>0</td></tr>\n",
       "\t<tr><td>05/17/2021</td><td>0009</td><td>1</td><td>3</td><td>0</td></tr>\n",
       "\t<tr><td>05/17/2021</td><td>9990</td><td>1</td><td>3</td><td>0</td></tr>\n",
       "\t<tr><td>05/17/2021</td><td>9990</td><td>0</td><td>4</td><td>0</td></tr>\n",
       "\t<tr><td>05/17/2021</td><td>9911</td><td>1</td><td>3</td><td>0</td></tr>\n",
       "\t<tr><td>05/17/2021</td><td>0512</td><td>3</td><td>1</td><td>0</td></tr>\n",
       "</tbody>\n",
       "</table>\n"
      ],
      "text/latex": [
       "A data.frame: 19 × 5\n",
       "\\begin{tabular}{lllll}\n",
       " Date & User.ID & Correct.Answers & Incorrect.Answers & Invalid.Answers\\\\\n",
       " <chr> & <chr> & <dbl> & <dbl> & <dbl>\\\\\n",
       "\\hline\n",
       "\t 05/17/2021 & 4567 & 1 & 3 & 0\\\\\n",
       "\t 05/17/2021 & 7770 & 2 & 2 & 0\\\\\n",
       "\t 05/17/2021 & 7771 & 3 & 1 & 0\\\\\n",
       "\t 05/17/2021 & 7772 & 0 & 4 & 0\\\\\n",
       "\t 05/17/2021 & 7773 & 3 & 1 & 0\\\\\n",
       "\t 05/17/2021 & 7774 & 0 & 4 & 0\\\\\n",
       "\t 05/17/2021 & 7775 & 3 & 1 & 0\\\\\n",
       "\t 05/17/2021 & 7779 & 0 & 4 & 0\\\\\n",
       "\t 05/17/2021 & 1234 & 2 & 2 & 0\\\\\n",
       "\t 05/17/2021 & 1234 & 4 & 0 & 0\\\\\n",
       "\t 05/17/2021 & 2345 & 4 & 0 & 0\\\\\n",
       "\t 05/17/2021 & 4567 & 4 & 0 & 0\\\\\n",
       "\t 05/17/2021 & 5678 & 0 & 4 & 0\\\\\n",
       "\t 05/17/2021 & 9988 & 2 & 2 & 0\\\\\n",
       "\t 05/17/2021 & 0009 & 1 & 3 & 0\\\\\n",
       "\t 05/17/2021 & 9990 & 1 & 3 & 0\\\\\n",
       "\t 05/17/2021 & 9990 & 0 & 4 & 0\\\\\n",
       "\t 05/17/2021 & 9911 & 1 & 3 & 0\\\\\n",
       "\t 05/17/2021 & 0512 & 3 & 1 & 0\\\\\n",
       "\\end{tabular}\n"
      ],
      "text/markdown": [
       "\n",
       "A data.frame: 19 × 5\n",
       "\n",
       "| Date &lt;chr&gt; | User.ID &lt;chr&gt; | Correct.Answers &lt;dbl&gt; | Incorrect.Answers &lt;dbl&gt; | Invalid.Answers &lt;dbl&gt; |\n",
       "|---|---|---|---|---|\n",
       "| 05/17/2021 | 4567 | 1 | 3 | 0 |\n",
       "| 05/17/2021 | 7770 | 2 | 2 | 0 |\n",
       "| 05/17/2021 | 7771 | 3 | 1 | 0 |\n",
       "| 05/17/2021 | 7772 | 0 | 4 | 0 |\n",
       "| 05/17/2021 | 7773 | 3 | 1 | 0 |\n",
       "| 05/17/2021 | 7774 | 0 | 4 | 0 |\n",
       "| 05/17/2021 | 7775 | 3 | 1 | 0 |\n",
       "| 05/17/2021 | 7779 | 0 | 4 | 0 |\n",
       "| 05/17/2021 | 1234 | 2 | 2 | 0 |\n",
       "| 05/17/2021 | 1234 | 4 | 0 | 0 |\n",
       "| 05/17/2021 | 2345 | 4 | 0 | 0 |\n",
       "| 05/17/2021 | 4567 | 4 | 0 | 0 |\n",
       "| 05/17/2021 | 5678 | 0 | 4 | 0 |\n",
       "| 05/17/2021 | 9988 | 2 | 2 | 0 |\n",
       "| 05/17/2021 | 0009 | 1 | 3 | 0 |\n",
       "| 05/17/2021 | 9990 | 1 | 3 | 0 |\n",
       "| 05/17/2021 | 9990 | 0 | 4 | 0 |\n",
       "| 05/17/2021 | 9911 | 1 | 3 | 0 |\n",
       "| 05/17/2021 | 0512 | 3 | 1 | 0 |\n",
       "\n"
      ],
      "text/plain": [
       "   Date       User.ID Correct.Answers Incorrect.Answers Invalid.Answers\n",
       "1  05/17/2021 4567    1               3                 0              \n",
       "2  05/17/2021 7770    2               2                 0              \n",
       "3  05/17/2021 7771    3               1                 0              \n",
       "4  05/17/2021 7772    0               4                 0              \n",
       "5  05/17/2021 7773    3               1                 0              \n",
       "6  05/17/2021 7774    0               4                 0              \n",
       "7  05/17/2021 7775    3               1                 0              \n",
       "8  05/17/2021 7779    0               4                 0              \n",
       "9  05/17/2021 1234    2               2                 0              \n",
       "10 05/17/2021 1234    4               0                 0              \n",
       "11 05/17/2021 2345    4               0                 0              \n",
       "12 05/17/2021 4567    4               0                 0              \n",
       "13 05/17/2021 5678    0               4                 0              \n",
       "14 05/17/2021 9988    2               2                 0              \n",
       "15 05/17/2021 0009    1               3                 0              \n",
       "16 05/17/2021 9990    1               3                 0              \n",
       "17 05/17/2021 9990    0               4                 0              \n",
       "18 05/17/2021 9911    1               3                 0              \n",
       "19 05/17/2021 0512    3               1                 0              "
      ]
     },
     "metadata": {},
     "output_type": "display_data"
    }
   ],
   "source": [
    "#convert each file to a dataframe\n",
    "E_scores <- data.frame(E_scores)\n",
    "E_scores\n",
    "FE_scores <- data.frame(FE_scores)\n",
    "FE_scores\n",
    "School_scores <- data.frame(School_scores)\n",
    "School_scores\n",
    "Social_scores <- data.frame(Social_scores)\n",
    "Social_scores\n",
    "P_scores <- data.frame(P_scores)\n",
    "P_scores"
   ]
  },
  {
   "cell_type": "markdown",
   "metadata": {},
   "source": [
    "### Emotion Game"
   ]
  },
  {
   "cell_type": "code",
   "execution_count": 4,
   "metadata": {},
   "outputs": [
    {
     "data": {
      "image/png": "[encoded data removed]",
      "text/plain": [
       "Plot with title “Emotion Game User Answers”"
      ]
     },
     "metadata": {
      "image/png": {
       "height": 420,
       "width": 420
      }
     },
     "output_type": "display_data"
    }
   ],
   "source": [
    "#compare correct, incorrect, and invalid answers per game category\n",
    "\n",
    "#bar graphs\n",
    "colors = c(\"green3\",\"red2\", \"yellow3\") #green for correct, red for incorrect, and yellow for invalid answers\n",
    "\n",
    "barplot(as.matrix(E_scores[,c('Correct.Answers','Incorrect.Answers','Invalid.Answers')]), beside = TRUE, col= rep(colors, each = nrow(E_scores)), ylab = \"Number of Answers\", xlab = \"User Answers\", main = \"Emotion Game User Answers\", space = c(.1,3.5), cex.names = 1.2, cex.lab = 1.5, cex.main = 1.7)\n"
   ]
  },
  {
   "cell_type": "code",
   "execution_count": 5,
   "metadata": {},
   "outputs": [
    {
     "data": {
      "text/html": [
       "'Emotion Game Average Answers (out of 8 questions)'"
      ],
      "text/latex": [
       "'Emotion Game Average Answers (out of 8 questions)'"
      ],
      "text/markdown": [
       "'Emotion Game Average Answers (out of 8 questions)'"
      ],
      "text/plain": [
       "[1] \"Emotion Game Average Answers (out of 8 questions)\""
      ]
     },
     "metadata": {},
     "output_type": "display_data"
    },
    {
     "data": {
      "text/html": [
       "<style>\n",
       ".dl-inline {width: auto; margin:0; padding: 0}\n",
       ".dl-inline>dt, .dl-inline>dd {float: none; width: auto; display: inline-block}\n",
       ".dl-inline>dt::after {content: \":\\0020\"; padding-right: .5ex}\n",
       ".dl-inline>dt:not(:first-of-type) {padding-left: .5ex}\n",
       "</style><dl class=dl-inline><dt>Correct.Answers</dt><dd>3.72</dd><dt>Incorrect.Answers</dt><dd>4.28</dd><dt>Invalid.Answers</dt><dd>0.44</dd></dl>\n"
      ],
      "text/latex": [
       "\\begin{description*}\n",
       "\\item[Correct.Answers] 3.72\n",
       "\\item[Incorrect.Answers] 4.28\n",
       "\\item[Invalid.Answers] 0.44\n",
       "\\end{description*}\n"
      ],
      "text/markdown": [
       "Correct.Answers\n",
       ":   3.72Incorrect.Answers\n",
       ":   4.28Invalid.Answers\n",
       ":   0.44\n",
       "\n"
      ],
      "text/plain": [
       "  Correct.Answers Incorrect.Answers   Invalid.Answers \n",
       "             3.72              4.28              0.44 "
      ]
     },
     "metadata": {},
     "output_type": "display_data"
    }
   ],
   "source": [
    "#additional analysis\n",
    "correct_emotions <- round(mean(E_scores$Correct.Answers), 2)\n",
    "incorrect_emotions <- round(mean(E_scores$Incorrect.Answers), 2)\n",
    "invalid_emotions <- round(mean(E_scores$Invalid.Answers), 2)\n",
    "\"Emotion Game Average Answers (out of 8 questions)\"\n",
    "round(colMeans(E_scores[3:5]),2)"
   ]
  },
  {
   "cell_type": "code",
   "execution_count": 6,
   "metadata": {},
   "outputs": [
    {
     "data": {
      "text/html": [
       "<table>\n",
       "<caption>A data.frame: 6 × 5</caption>\n",
       "<thead>\n",
       "\t<tr><th></th><th scope=col>Date</th><th scope=col>User.ID</th><th scope=col>Correct.Answers</th><th scope=col>Incorrect.Answers</th><th scope=col>Invalid.Answers</th></tr>\n",
       "\t<tr><th></th><th scope=col>&lt;chr&gt;</th><th scope=col>&lt;chr&gt;</th><th scope=col>&lt;dbl&gt;</th><th scope=col>&lt;dbl&gt;</th><th scope=col>&lt;dbl&gt;</th></tr>\n",
       "</thead>\n",
       "<tbody>\n",
       "\t<tr><th scope=row>7</th><td>05/17/2021</td><td>7773</td><td>7</td><td>1</td><td>0</td></tr>\n",
       "\t<tr><th scope=row>9</th><td>05/17/2021</td><td>7775</td><td>6</td><td>2</td><td>0</td></tr>\n",
       "\t<tr><th scope=row>13</th><td>05/17/2021</td><td>2345</td><td>7</td><td>1</td><td>0</td></tr>\n",
       "\t<tr><th scope=row>14</th><td>05/17/2021</td><td>4567</td><td>8</td><td>0</td><td>0</td></tr>\n",
       "\t<tr><th scope=row>15</th><td>05/17/2021</td><td>5678</td><td>6</td><td>2</td><td>0</td></tr>\n",
       "\t<tr><th scope=row>25</th><td>05/19/2021</td><td>2342</td><td>7</td><td>1</td><td>0</td></tr>\n",
       "</tbody>\n",
       "</table>\n"
      ],
      "text/latex": [
       "A data.frame: 6 × 5\n",
       "\\begin{tabular}{r|lllll}\n",
       "  & Date & User.ID & Correct.Answers & Incorrect.Answers & Invalid.Answers\\\\\n",
       "  & <chr> & <chr> & <dbl> & <dbl> & <dbl>\\\\\n",
       "\\hline\n",
       "\t7 & 05/17/2021 & 7773 & 7 & 1 & 0\\\\\n",
       "\t9 & 05/17/2021 & 7775 & 6 & 2 & 0\\\\\n",
       "\t13 & 05/17/2021 & 2345 & 7 & 1 & 0\\\\\n",
       "\t14 & 05/17/2021 & 4567 & 8 & 0 & 0\\\\\n",
       "\t15 & 05/17/2021 & 5678 & 6 & 2 & 0\\\\\n",
       "\t25 & 05/19/2021 & 2342 & 7 & 1 & 0\\\\\n",
       "\\end{tabular}\n"
      ],
      "text/markdown": [
       "\n",
       "A data.frame: 6 × 5\n",
       "\n",
       "| <!--/--> | Date &lt;chr&gt; | User.ID &lt;chr&gt; | Correct.Answers &lt;dbl&gt; | Incorrect.Answers &lt;dbl&gt; | Invalid.Answers &lt;dbl&gt; |\n",
       "|---|---|---|---|---|---|\n",
       "| 7 | 05/17/2021 | 7773 | 7 | 1 | 0 |\n",
       "| 9 | 05/17/2021 | 7775 | 6 | 2 | 0 |\n",
       "| 13 | 05/17/2021 | 2345 | 7 | 1 | 0 |\n",
       "| 14 | 05/17/2021 | 4567 | 8 | 0 | 0 |\n",
       "| 15 | 05/17/2021 | 5678 | 6 | 2 | 0 |\n",
       "| 25 | 05/19/2021 | 2342 | 7 | 1 | 0 |\n",
       "\n"
      ],
      "text/plain": [
       "   Date       User.ID Correct.Answers Incorrect.Answers Invalid.Answers\n",
       "7  05/17/2021 7773    7               1                 0              \n",
       "9  05/17/2021 7775    6               2                 0              \n",
       "13 05/17/2021 2345    7               1                 0              \n",
       "14 05/17/2021 4567    8               0                 0              \n",
       "15 05/17/2021 5678    6               2                 0              \n",
       "25 05/19/2021 2342    7               1                 0              "
      ]
     },
     "metadata": {},
     "output_type": "display_data"
    }
   ],
   "source": [
    "#Users that unlocked a puzzle piece for emotion game\n",
    "E_scores[E_scores$Correct.Answers >= 6,]"
   ]
  },
  {
   "cell_type": "markdown",
   "metadata": {},
   "source": [
    "### Facial Expressions Game "
   ]
  },
  {
   "cell_type": "code",
   "execution_count": 7,
   "metadata": {},
   "outputs": [
    {
     "data": {
      "image/png": "[encoded data removed]",
      "text/plain": [
       "Plot with title “Facial Expressions Game User Answers”"
      ]
     },
     "metadata": {
      "image/png": {
       "height": 420,
       "width": 420
      }
     },
     "output_type": "display_data"
    }
   ],
   "source": [
    "#compare correct, incorrect, and invalid answers per game category\n",
    "\n",
    "#bar graphs\n",
    "colors = c(\"green3\",\"red2\", 'yellow3') #green for correct, red for incorrect, and yellow for invalid answers\n",
    "\n",
    "barplot(as.matrix(FE_scores[,c('Correct.Answers','Incorrect.Answers','Invalid.Answers')]), beside = TRUE, col= rep(colors, each = nrow(FE_scores)), ylab = \"Number of Answers\", xlab = \"User Answers\", main = \"Facial Expressions Game User Answers\", space = c(.1,3.5), cex.names = 1.2, cex.lab = 1.5, cex.main = 1.7)"
   ]
  },
  {
   "cell_type": "code",
   "execution_count": 8,
   "metadata": {},
   "outputs": [
    {
     "data": {
      "text/html": [
       "<table>\n",
       "<caption>A data.frame: 6 × 5</caption>\n",
       "<thead>\n",
       "\t<tr><th></th><th scope=col>Date</th><th scope=col>User.ID</th><th scope=col>Correct.Answers</th><th scope=col>Incorrect.Answers</th><th scope=col>Invalid.Answers</th></tr>\n",
       "\t<tr><th></th><th scope=col>&lt;chr&gt;</th><th scope=col>&lt;chr&gt;</th><th scope=col>&lt;dbl&gt;</th><th scope=col>&lt;dbl&gt;</th><th scope=col>&lt;dbl&gt;</th></tr>\n",
       "</thead>\n",
       "<tbody>\n",
       "\t<tr><th scope=row>1</th><td>05/17/2021</td><td>4567</td><td>8</td><td>0</td><td>0</td></tr>\n",
       "\t<tr><th scope=row>2</th><td>05/17/2021</td><td>7770</td><td>6</td><td>2</td><td>0</td></tr>\n",
       "\t<tr><th scope=row>7</th><td>05/17/2021</td><td>7775</td><td>7</td><td>1</td><td>0</td></tr>\n",
       "\t<tr><th scope=row>9</th><td>05/17/2021</td><td>1234</td><td>8</td><td>0</td><td>0</td></tr>\n",
       "\t<tr><th scope=row>12</th><td>05/17/2021</td><td>4567</td><td>7</td><td>1</td><td>0</td></tr>\n",
       "\t<tr><th scope=row>17</th><td>05/17/2021</td><td>0512</td><td>8</td><td>0</td><td>0</td></tr>\n",
       "</tbody>\n",
       "</table>\n"
      ],
      "text/latex": [
       "A data.frame: 6 × 5\n",
       "\\begin{tabular}{r|lllll}\n",
       "  & Date & User.ID & Correct.Answers & Incorrect.Answers & Invalid.Answers\\\\\n",
       "  & <chr> & <chr> & <dbl> & <dbl> & <dbl>\\\\\n",
       "\\hline\n",
       "\t1 & 05/17/2021 & 4567 & 8 & 0 & 0\\\\\n",
       "\t2 & 05/17/2021 & 7770 & 6 & 2 & 0\\\\\n",
       "\t7 & 05/17/2021 & 7775 & 7 & 1 & 0\\\\\n",
       "\t9 & 05/17/2021 & 1234 & 8 & 0 & 0\\\\\n",
       "\t12 & 05/17/2021 & 4567 & 7 & 1 & 0\\\\\n",
       "\t17 & 05/17/2021 & 0512 & 8 & 0 & 0\\\\\n",
       "\\end{tabular}\n"
      ],
      "text/markdown": [
       "\n",
       "A data.frame: 6 × 5\n",
       "\n",
       "| <!--/--> | Date &lt;chr&gt; | User.ID &lt;chr&gt; | Correct.Answers &lt;dbl&gt; | Incorrect.Answers &lt;dbl&gt; | Invalid.Answers &lt;dbl&gt; |\n",
       "|---|---|---|---|---|---|\n",
       "| 1 | 05/17/2021 | 4567 | 8 | 0 | 0 |\n",
       "| 2 | 05/17/2021 | 7770 | 6 | 2 | 0 |\n",
       "| 7 | 05/17/2021 | 7775 | 7 | 1 | 0 |\n",
       "| 9 | 05/17/2021 | 1234 | 8 | 0 | 0 |\n",
       "| 12 | 05/17/2021 | 4567 | 7 | 1 | 0 |\n",
       "| 17 | 05/17/2021 | 0512 | 8 | 0 | 0 |\n",
       "\n"
      ],
      "text/plain": [
       "   Date       User.ID Correct.Answers Incorrect.Answers Invalid.Answers\n",
       "1  05/17/2021 4567    8               0                 0              \n",
       "2  05/17/2021 7770    6               2                 0              \n",
       "7  05/17/2021 7775    7               1                 0              \n",
       "9  05/17/2021 1234    8               0                 0              \n",
       "12 05/17/2021 4567    7               1                 0              \n",
       "17 05/17/2021 0512    8               0                 0              "
      ]
     },
     "metadata": {},
     "output_type": "display_data"
    }
   ],
   "source": [
    "#Users that unlocked a puzzle piece for facial expressions game\n",
    "FE_scores[FE_scores$Correct.Answers >= 6,]"
   ]
  },
  {
   "cell_type": "markdown",
   "metadata": {},
   "source": [
    "### School Situations Game "
   ]
  },
  {
   "cell_type": "code",
   "execution_count": 11,
   "metadata": {},
   "outputs": [
    {
     "data": {
      "image/png": "[encoded data removed]",
      "text/plain": [
       "Plot with title “School Situations Game User Answers”"
      ]
     },
     "metadata": {
      "image/png": {
       "height": 420,
       "width": 420
      }
     },
     "output_type": "display_data"
    }
   ],
   "source": [
    "colors = c(\"green\",\"red\", 'yellow') #green for correct, red for incorrect, and yellow for invalid answers\n",
    "\n",
    "barplot(as.matrix(School_scores[,c('Correct.Answers','Incorrect.Answers','Invalid.Answers')]), beside = TRUE, col= rep(colors, each = nrow(School_scores)), ylab = \"Number of Answers\", xlab = \"User Answers\", main = \"School Situations Game User Answers\", space = c(.1,3.5), cex.names = 1.2, cex.lab = 1.5, cex.main = 1.7)"
   ]
  },
  {
   "cell_type": "code",
   "execution_count": 19,
   "metadata": {},
   "outputs": [
    {
     "data": {
      "text/html": [
       "<table>\n",
       "<caption>A data.frame: 8 × 5</caption>\n",
       "<thead>\n",
       "\t<tr><th></th><th scope=col>Date</th><th scope=col>User.ID</th><th scope=col>Correct.Answers</th><th scope=col>Incorrect.Answers</th><th scope=col>Invalid.Answers</th></tr>\n",
       "\t<tr><th></th><th scope=col>&lt;chr&gt;</th><th scope=col>&lt;chr&gt;</th><th scope=col>&lt;dbl&gt;</th><th scope=col>&lt;dbl&gt;</th><th scope=col>&lt;dbl&gt;</th></tr>\n",
       "</thead>\n",
       "<tbody>\n",
       "\t<tr><th scope=row>2</th><td>05/17/2021</td><td>7770</td><td>5</td><td>0</td><td>0</td></tr>\n",
       "\t<tr><th scope=row>3</th><td>05/17/2021</td><td>7771</td><td>4</td><td>1</td><td>0</td></tr>\n",
       "\t<tr><th scope=row>5</th><td>05/17/2021</td><td>7773</td><td>5</td><td>0</td><td>0</td></tr>\n",
       "\t<tr><th scope=row>9</th><td>05/17/2021</td><td>1234</td><td>5</td><td>0</td><td>0</td></tr>\n",
       "\t<tr><th scope=row>10</th><td>05/17/2021</td><td>1234</td><td>5</td><td>0</td><td>0</td></tr>\n",
       "\t<tr><th scope=row>12</th><td>05/17/2021</td><td>4567</td><td>5</td><td>0</td><td>0</td></tr>\n",
       "\t<tr><th scope=row>13</th><td>05/17/2021</td><td>4567</td><td>4</td><td>1</td><td>0</td></tr>\n",
       "\t<tr><th scope=row>19</th><td>05/17/2021</td><td>0512</td><td>5</td><td>0</td><td>0</td></tr>\n",
       "</tbody>\n",
       "</table>\n"
      ],
      "text/latex": [
       "A data.frame: 8 × 5\n",
       "\\begin{tabular}{r|lllll}\n",
       "  & Date & User.ID & Correct.Answers & Incorrect.Answers & Invalid.Answers\\\\\n",
       "  & <chr> & <chr> & <dbl> & <dbl> & <dbl>\\\\\n",
       "\\hline\n",
       "\t2 & 05/17/2021 & 7770 & 5 & 0 & 0\\\\\n",
       "\t3 & 05/17/2021 & 7771 & 4 & 1 & 0\\\\\n",
       "\t5 & 05/17/2021 & 7773 & 5 & 0 & 0\\\\\n",
       "\t9 & 05/17/2021 & 1234 & 5 & 0 & 0\\\\\n",
       "\t10 & 05/17/2021 & 1234 & 5 & 0 & 0\\\\\n",
       "\t12 & 05/17/2021 & 4567 & 5 & 0 & 0\\\\\n",
       "\t13 & 05/17/2021 & 4567 & 4 & 1 & 0\\\\\n",
       "\t19 & 05/17/2021 & 0512 & 5 & 0 & 0\\\\\n",
       "\\end{tabular}\n"
      ],
      "text/markdown": [
       "\n",
       "A data.frame: 8 × 5\n",
       "\n",
       "| <!--/--> | Date &lt;chr&gt; | User.ID &lt;chr&gt; | Correct.Answers &lt;dbl&gt; | Incorrect.Answers &lt;dbl&gt; | Invalid.Answers &lt;dbl&gt; |\n",
       "|---|---|---|---|---|---|\n",
       "| 2 | 05/17/2021 | 7770 | 5 | 0 | 0 |\n",
       "| 3 | 05/17/2021 | 7771 | 4 | 1 | 0 |\n",
       "| 5 | 05/17/2021 | 7773 | 5 | 0 | 0 |\n",
       "| 9 | 05/17/2021 | 1234 | 5 | 0 | 0 |\n",
       "| 10 | 05/17/2021 | 1234 | 5 | 0 | 0 |\n",
       "| 12 | 05/17/2021 | 4567 | 5 | 0 | 0 |\n",
       "| 13 | 05/17/2021 | 4567 | 4 | 1 | 0 |\n",
       "| 19 | 05/17/2021 | 0512 | 5 | 0 | 0 |\n",
       "\n"
      ],
      "text/plain": [
       "   Date       User.ID Correct.Answers Incorrect.Answers Invalid.Answers\n",
       "2  05/17/2021 7770    5               0                 0              \n",
       "3  05/17/2021 7771    4               1                 0              \n",
       "5  05/17/2021 7773    5               0                 0              \n",
       "9  05/17/2021 1234    5               0                 0              \n",
       "10 05/17/2021 1234    5               0                 0              \n",
       "12 05/17/2021 4567    5               0                 0              \n",
       "13 05/17/2021 4567    4               1                 0              \n",
       "19 05/17/2021 0512    5               0                 0              "
      ]
     },
     "metadata": {},
     "output_type": "display_data"
    }
   ],
   "source": [
    "#Users that unlocked a puzzle piece for school situations game\n",
    "School_scores[School_scores$Correct.Answers >= 4,]"
   ]
  },
  {
   "cell_type": "markdown",
   "metadata": {},
   "source": [
    "### Social Skills Game "
   ]
  },
  {
   "cell_type": "code",
   "execution_count": 12,
   "metadata": {},
   "outputs": [
    {
     "data": {
      "image/png": "[encoded data removed]",
      "text/plain": [
       "Plot with title “Social Game User Answers”"
      ]
     },
     "metadata": {
      "image/png": {
       "height": 420,
       "width": 420
      }
     },
     "output_type": "display_data"
    }
   ],
   "source": [
    "#bar graphs for the Social Game\n",
    "colors = c(\"green3\",\"red2\", 'yellow3') #green for correct, red for incorrect, and yellow for invalid answers\n",
    "\n",
    "barplot(as.matrix(Social_scores[,c('Correct.Answers','Incorrect.Answers','Invalid.Answers')]), beside = TRUE, col= rep(colors, each = nrow(Social_scores)), ylab = \"Number of Answers\", xlab = \"User Answers\", main = \"Social Game User Answers\", space = c(.1,3.5), cex.names = 1.2, cex.lab = 1.5, cex.main = 1.7)"
   ]
  },
  {
   "cell_type": "code",
   "execution_count": 20,
   "metadata": {
    "scrolled": true
   },
   "outputs": [
    {
     "data": {
      "text/html": [
       "<table>\n",
       "<caption>A data.frame: 5 × 5</caption>\n",
       "<thead>\n",
       "\t<tr><th></th><th scope=col>Date</th><th scope=col>User.ID</th><th scope=col>Correct.Answers</th><th scope=col>Incorrect.Answers</th><th scope=col>Invalid.Answers</th></tr>\n",
       "\t<tr><th></th><th scope=col>&lt;chr&gt;</th><th scope=col>&lt;chr&gt;</th><th scope=col>&lt;dbl&gt;</th><th scope=col>&lt;dbl&gt;</th><th scope=col>&lt;dbl&gt;</th></tr>\n",
       "</thead>\n",
       "<tbody>\n",
       "\t<tr><th scope=row>2</th><td>05/17/2021</td><td>7770</td><td>9</td><td>0</td><td>0</td></tr>\n",
       "\t<tr><th scope=row>3</th><td>05/17/2021</td><td>7771</td><td>8</td><td>1</td><td>0</td></tr>\n",
       "\t<tr><th scope=row>8</th><td>05/17/2021</td><td>7775</td><td>8</td><td>1</td><td>0</td></tr>\n",
       "\t<tr><th scope=row>11</th><td>05/17/2021</td><td>2345</td><td>7</td><td>2</td><td>0</td></tr>\n",
       "\t<tr><th scope=row>18</th><td>05/17/2021</td><td>0512</td><td>9</td><td>0</td><td>0</td></tr>\n",
       "</tbody>\n",
       "</table>\n"
      ],
      "text/latex": [
       "A data.frame: 5 × 5\n",
       "\\begin{tabular}{r|lllll}\n",
       "  & Date & User.ID & Correct.Answers & Incorrect.Answers & Invalid.Answers\\\\\n",
       "  & <chr> & <chr> & <dbl> & <dbl> & <dbl>\\\\\n",
       "\\hline\n",
       "\t2 & 05/17/2021 & 7770 & 9 & 0 & 0\\\\\n",
       "\t3 & 05/17/2021 & 7771 & 8 & 1 & 0\\\\\n",
       "\t8 & 05/17/2021 & 7775 & 8 & 1 & 0\\\\\n",
       "\t11 & 05/17/2021 & 2345 & 7 & 2 & 0\\\\\n",
       "\t18 & 05/17/2021 & 0512 & 9 & 0 & 0\\\\\n",
       "\\end{tabular}\n"
      ],
      "text/markdown": [
       "\n",
       "A data.frame: 5 × 5\n",
       "\n",
       "| <!--/--> | Date &lt;chr&gt; | User.ID &lt;chr&gt; | Correct.Answers &lt;dbl&gt; | Incorrect.Answers &lt;dbl&gt; | Invalid.Answers &lt;dbl&gt; |\n",
       "|---|---|---|---|---|---|\n",
       "| 2 | 05/17/2021 | 7770 | 9 | 0 | 0 |\n",
       "| 3 | 05/17/2021 | 7771 | 8 | 1 | 0 |\n",
       "| 8 | 05/17/2021 | 7775 | 8 | 1 | 0 |\n",
       "| 11 | 05/17/2021 | 2345 | 7 | 2 | 0 |\n",
       "| 18 | 05/17/2021 | 0512 | 9 | 0 | 0 |\n",
       "\n"
      ],
      "text/plain": [
       "   Date       User.ID Correct.Answers Incorrect.Answers Invalid.Answers\n",
       "2  05/17/2021 7770    9               0                 0              \n",
       "3  05/17/2021 7771    8               1                 0              \n",
       "8  05/17/2021 7775    8               1                 0              \n",
       "11 05/17/2021 2345    7               2                 0              \n",
       "18 05/17/2021 0512    9               0                 0              "
      ]
     },
     "metadata": {},
     "output_type": "display_data"
    }
   ],
   "source": [
    "#Users that unlocked a puzzle piece for social situations game\n",
    "Social_scores[Social_scores$Correct.Answers >= 7,]"
   ]
  },
  {
   "cell_type": "markdown",
   "metadata": {},
   "source": [
    "### Patterns Game "
   ]
  },
  {
   "cell_type": "code",
   "execution_count": 4,
   "metadata": {},
   "outputs": [
    {
     "data": {
      "image/png": "[encoded data removed]",
      "text/plain": [
       "Plot with title “Patterns Game User Answers”"
      ]
     },
     "metadata": {
      "image/png": {
       "height": 420,
       "width": 420
      }
     },
     "output_type": "display_data"
    }
   ],
   "source": [
    "#compare correct, incorrect, and invalid answers per game category\n",
    "\n",
    "#bar graphs\n",
    "colors = c(\"green3\",\"red2\", 'yellow3') #green for correct, red for incorrect, and yellow for invalid answers\n",
    "\n",
    "barplot(as.matrix(P_scores[,c('Correct.Answers','Incorrect.Answers','Invalid.Answers')]), beside = TRUE, col= rep(colors, each = nrow(P_scores)), ylab = \"Number of Answers\", xlab = \"User Answers\", main = \"Patterns Game User Answers\", space = c(.1,3.5), cex.names = 1.2, cex.lab = 1.5, cex.main = 1.7)"
   ]
  },
  {
   "cell_type": "code",
   "execution_count": 5,
   "metadata": {},
   "outputs": [
    {
     "data": {
      "text/html": [
       "<table>\n",
       "<caption>A data.frame: 7 × 5</caption>\n",
       "<thead>\n",
       "\t<tr><th></th><th scope=col>Date</th><th scope=col>User.ID</th><th scope=col>Correct.Answers</th><th scope=col>Incorrect.Answers</th><th scope=col>Invalid.Answers</th></tr>\n",
       "\t<tr><th></th><th scope=col>&lt;chr&gt;</th><th scope=col>&lt;chr&gt;</th><th scope=col>&lt;dbl&gt;</th><th scope=col>&lt;dbl&gt;</th><th scope=col>&lt;dbl&gt;</th></tr>\n",
       "</thead>\n",
       "<tbody>\n",
       "\t<tr><th scope=row>3</th><td>05/17/2021</td><td>7771</td><td>3</td><td>1</td><td>0</td></tr>\n",
       "\t<tr><th scope=row>5</th><td>05/17/2021</td><td>7773</td><td>3</td><td>1</td><td>0</td></tr>\n",
       "\t<tr><th scope=row>7</th><td>05/17/2021</td><td>7775</td><td>3</td><td>1</td><td>0</td></tr>\n",
       "\t<tr><th scope=row>10</th><td>05/17/2021</td><td>1234</td><td>4</td><td>0</td><td>0</td></tr>\n",
       "\t<tr><th scope=row>11</th><td>05/17/2021</td><td>2345</td><td>4</td><td>0</td><td>0</td></tr>\n",
       "\t<tr><th scope=row>12</th><td>05/17/2021</td><td>4567</td><td>4</td><td>0</td><td>0</td></tr>\n",
       "\t<tr><th scope=row>19</th><td>05/17/2021</td><td>0512</td><td>3</td><td>1</td><td>0</td></tr>\n",
       "</tbody>\n",
       "</table>\n"
      ],
      "text/latex": [
       "A data.frame: 7 × 5\n",
       "\\begin{tabular}{r|lllll}\n",
       "  & Date & User.ID & Correct.Answers & Incorrect.Answers & Invalid.Answers\\\\\n",
       "  & <chr> & <chr> & <dbl> & <dbl> & <dbl>\\\\\n",
       "\\hline\n",
       "\t3 & 05/17/2021 & 7771 & 3 & 1 & 0\\\\\n",
       "\t5 & 05/17/2021 & 7773 & 3 & 1 & 0\\\\\n",
       "\t7 & 05/17/2021 & 7775 & 3 & 1 & 0\\\\\n",
       "\t10 & 05/17/2021 & 1234 & 4 & 0 & 0\\\\\n",
       "\t11 & 05/17/2021 & 2345 & 4 & 0 & 0\\\\\n",
       "\t12 & 05/17/2021 & 4567 & 4 & 0 & 0\\\\\n",
       "\t19 & 05/17/2021 & 0512 & 3 & 1 & 0\\\\\n",
       "\\end{tabular}\n"
      ],
      "text/markdown": [
       "\n",
       "A data.frame: 7 × 5\n",
       "\n",
       "| <!--/--> | Date &lt;chr&gt; | User.ID &lt;chr&gt; | Correct.Answers &lt;dbl&gt; | Incorrect.Answers &lt;dbl&gt; | Invalid.Answers &lt;dbl&gt; |\n",
       "|---|---|---|---|---|---|\n",
       "| 3 | 05/17/2021 | 7771 | 3 | 1 | 0 |\n",
       "| 5 | 05/17/2021 | 7773 | 3 | 1 | 0 |\n",
       "| 7 | 05/17/2021 | 7775 | 3 | 1 | 0 |\n",
       "| 10 | 05/17/2021 | 1234 | 4 | 0 | 0 |\n",
       "| 11 | 05/17/2021 | 2345 | 4 | 0 | 0 |\n",
       "| 12 | 05/17/2021 | 4567 | 4 | 0 | 0 |\n",
       "| 19 | 05/17/2021 | 0512 | 3 | 1 | 0 |\n",
       "\n"
      ],
      "text/plain": [
       "   Date       User.ID Correct.Answers Incorrect.Answers Invalid.Answers\n",
       "3  05/17/2021 7771    3               1                 0              \n",
       "5  05/17/2021 7773    3               1                 0              \n",
       "7  05/17/2021 7775    3               1                 0              \n",
       "10 05/17/2021 1234    4               0                 0              \n",
       "11 05/17/2021 2345    4               0                 0              \n",
       "12 05/17/2021 4567    4               0                 0              \n",
       "19 05/17/2021 0512    3               1                 0              "
      ]
     },
     "metadata": {},
     "output_type": "display_data"
    }
   ],
   "source": [
    "#Users that unlocked a puzzle piece for patterns game\n",
    "P_scores[P_scores$Correct.Answers >= 3,]"
   ]
  },
  {
   "cell_type": "markdown",
   "metadata": {},
   "source": [
    "### Overall Game Scoring"
   ]
  },
  {
   "cell_type": "code",
   "execution_count": 9,
   "metadata": {},
   "outputs": [
    {
     "data": {
      "text/html": [
       "<table>\n",
       "<caption>A data.frame: 5 × 4</caption>\n",
       "<thead>\n",
       "\t<tr><th scope=col>Game.Category</th><th scope=col>Mean.Correct.Answers</th><th scope=col>Total.Possible.Correct.Answers</th><th scope=col>Mean.Scores</th></tr>\n",
       "\t<tr><th scope=col>&lt;chr&gt;</th><th scope=col>&lt;dbl&gt;</th><th scope=col>&lt;dbl&gt;</th><th scope=col>&lt;dbl&gt;</th></tr>\n",
       "</thead>\n",
       "<tbody>\n",
       "\t<tr><td>Emotions          </td><td>3.72</td><td>8</td><td>0.47</td></tr>\n",
       "\t<tr><td>Facial Expressions</td><td>4.00</td><td>8</td><td>0.50</td></tr>\n",
       "\t<tr><td>School Situations </td><td>3.00</td><td>5</td><td>0.60</td></tr>\n",
       "\t<tr><td>Social Skills     </td><td>4.00</td><td>9</td><td>0.44</td></tr>\n",
       "\t<tr><td>Patterns          </td><td>2.00</td><td>4</td><td>0.50</td></tr>\n",
       "</tbody>\n",
       "</table>\n"
      ],
      "text/latex": [
       "A data.frame: 5 × 4\n",
       "\\begin{tabular}{llll}\n",
       " Game.Category & Mean.Correct.Answers & Total.Possible.Correct.Answers & Mean.Scores\\\\\n",
       " <chr> & <dbl> & <dbl> & <dbl>\\\\\n",
       "\\hline\n",
       "\t Emotions           & 3.72 & 8 & 0.47\\\\\n",
       "\t Facial Expressions & 4.00 & 8 & 0.50\\\\\n",
       "\t School Situations  & 3.00 & 5 & 0.60\\\\\n",
       "\t Social Skills      & 4.00 & 9 & 0.44\\\\\n",
       "\t Patterns           & 2.00 & 4 & 0.50\\\\\n",
       "\\end{tabular}\n"
      ],
      "text/markdown": [
       "\n",
       "A data.frame: 5 × 4\n",
       "\n",
       "| Game.Category &lt;chr&gt; | Mean.Correct.Answers &lt;dbl&gt; | Total.Possible.Correct.Answers &lt;dbl&gt; | Mean.Scores &lt;dbl&gt; |\n",
       "|---|---|---|---|\n",
       "| Emotions           | 3.72 | 8 | 0.47 |\n",
       "| Facial Expressions | 4.00 | 8 | 0.50 |\n",
       "| School Situations  | 3.00 | 5 | 0.60 |\n",
       "| Social Skills      | 4.00 | 9 | 0.44 |\n",
       "| Patterns           | 2.00 | 4 | 0.50 |\n",
       "\n"
      ],
      "text/plain": [
       "  Game.Category      Mean.Correct.Answers Total.Possible.Correct.Answers\n",
       "1 Emotions           3.72                 8                             \n",
       "2 Facial Expressions 4.00                 8                             \n",
       "3 School Situations  3.00                 5                             \n",
       "4 Social Skills      4.00                 9                             \n",
       "5 Patterns           2.00                 4                             \n",
       "  Mean.Scores\n",
       "1 0.47       \n",
       "2 0.50       \n",
       "3 0.60       \n",
       "4 0.44       \n",
       "5 0.50       "
      ]
     },
     "metadata": {},
     "output_type": "display_data"
    }
   ],
   "source": [
    "correct_emotions <- round(mean(E_scores$Correct.Answers),2)\n",
    "correct_fe <- round(mean(FE_scores$Correct.Answers, 2))\n",
    "correct_school <- round(mean(School_scores$Correct.Answers, 2))\n",
    "correct_social <- round(mean(Social_scores$Correct.Answers, 2))\n",
    "correct_pattern <- round(mean(P_scores$Correct.Answers, 2))\n",
    "game_categories <- c(\"Emotions\", \"Facial Expressions\", \"School Situations\", \"Social Skills\", \"Patterns\")\n",
    "mean_correct <- c(correct_emotions,correct_fe, correct_school, correct_social, correct_pattern)\n",
    "scores_per_category <- data.frame(\"Game Category\" = game_categories, \"Mean Correct Answers\" = mean_correct, \"Total Possible Correct Answers\" = c(8,8,5,9,4))\n",
    "scores <- round((scores_per_category$Mean.Correct.Answers / scores_per_category$Total.Possible.Correct.Answers),2)\n",
    "scores_per_category$Mean.Scores <- scores\n",
    "scores_per_category"
   ]
  }
 ],
 "metadata": {
  "kernelspec": {
   "display_name": "R",
   "language": "R",
   "name": "ir"
  },
  "language_info": {
   "codemirror_mode": "r",
   "file_extension": ".r",
   "mimetype": "text/x-r-source",
   "name": "R",
   "pygments_lexer": "r",
   "version": "4.0.2"
  }
 },
 "nbformat": 4,
 "nbformat_minor": 4
}
